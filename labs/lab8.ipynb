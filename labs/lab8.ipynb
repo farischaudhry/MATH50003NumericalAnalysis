{
 "cells": [
  {
   "cell_type": "markdown",
   "metadata": {},
   "source": [
    "# MATH50003 (2023–24)\n",
    "# Revision Lab"
   ]
  },
  {
   "cell_type": "code",
   "execution_count": 2,
   "metadata": {},
   "outputs": [],
   "source": [
    "using LinearAlgebra, SetRounding, Test, Plots"
   ]
  },
  {
   "cell_type": "markdown",
   "metadata": {},
   "source": [
    "**Problem 1(a)** Simpson's rule on a single panel is given by\n",
    "$$\n",
    "∫_a^b f(x) {\\rm d}x ≈ {b-a \\over 6} \\left[f(a) + 4 f\\!\\left({a+b \\over 2}\\right) + f(b) \\right].\n",
    "$$\n",
    "Complete the implementation of `simpsonsrule` by dividing $[0,1]$ into grid points $x_0, x_1, …, x_{2n}$ with $x_k = k/(2n)$\n",
    "and applying Simpson's rule on the intervals $[x_{2k-2},x_{2k}]$ for $k = 1,…,n$."
   ]
  },
  {
   "cell_type": "code",
   "execution_count": 3,
   "metadata": {},
   "outputs": [
    {
     "data": {
      "text/plain": [
       "\u001b[32m\u001b[1mTest Passed\u001b[22m\u001b[39m"
      ]
     },
     "execution_count": 3,
     "metadata": {},
     "output_type": "execute_result"
    }
   ],
   "source": [
    "function simpsonsrule(f, n)\n",
    "    # TODO: implement Simpsons rule\n",
    "    h = 1/n\n",
    "    res = 0\n",
    "\n",
    "    for k = 1:n\n",
    "        x_k = k/n\n",
    "        x_k2 = (k-1)/n\n",
    "        res += (f(x_k2) + 4*f((x_k+x_k2)/2) + f(x_k))\n",
    "    end\n",
    "\n",
    "    (h / 6) * res\n",
    "end\n",
    "\n",
    "@test simpsonsrule(exp, 1000) ≈ exp(1)-1"
   ]
  },
  {
   "cell_type": "markdown",
   "metadata": {},
   "source": [
    "**Problem 1(b)** By computing with various values of $n$, conjecture what the convergence rate is as $n → ∞$. Is it faster than Trapezium rules $O(n^{-2})$?"
   ]
  },
  {
   "cell_type": "code",
   "execution_count": 28,
   "metadata": {},
   "outputs": [
    {
     "data": {
      "image/png": "[encoded data removed]",
      "image/svg+xml": [
       "<?xml version=\"1.0\" encoding=\"utf-8\"?>\n",
       "<svg xmlns=\"http://www.w3.org/2000/svg\" xmlns:xlink=\"http://www.w3.org/1999/xlink\" width=\"600\" height=\"400\" viewBox=\"0 0 2400 1600\">\n",
       "<defs>\n",
       "  <clipPath id=\"clip100\">\n",
       "    <rect x=\"0\" y=\"0\" width=\"2400\" height=\"1600\"/>\n",
       "  </clipPath>\n",
       "</defs>\n",
       "<path clip-path=\"url(#clip100)\" d=\"M0 1600 L2400 1600 L2400 0 L0 0  Z\" fill=\"#ffffff\" fill-rule=\"evenodd\" fill-opacity=\"1\"/>\n",
       "<defs>\n",
       "  <clipPath id=\"clip101\">\n",
       "    <rect x=\"480\" y=\"0\" width=\"1681\" height=\"1600\"/>\n",
       "  </clipPath>\n",
       "</defs>\n",
       "<path clip-path=\"url(#clip100)\" d=\"M213.607 1474.16 L2352.76 1474.16 L2352.76 47.2441 L213.607 47.2441  Z\" fill=\"#ffffff\" fill-rule=\"evenodd\" fill-opacity=\"1\"/>\n",
       "<defs>\n",
       "  <clipPath id=\"clip102\">\n",
       "    <rect x=\"213\" y=\"47\" width=\"2140\" height=\"1428\"/>\n",
       "  </clipPath>\n",
       "</defs>\n",
       "<polyline clip-path=\"url(#clip102)\" style=\"stroke:#000000; stroke-linecap:round; stroke-linejoin:round; stroke-width:2; stroke-opacity:0.1; fill:none\" points=\"274.149,1474.16 274.149,47.2441 \"/>\n",
       "<polyline clip-path=\"url(#clip102)\" style=\"stroke:#000000; stroke-linecap:round; stroke-linejoin:round; stroke-width:2; stroke-opacity:0.1; fill:none\" points=\"1283.18,1474.16 1283.18,47.2441 \"/>\n",
       "<polyline clip-path=\"url(#clip102)\" style=\"stroke:#000000; stroke-linecap:round; stroke-linejoin:round; stroke-width:2; stroke-opacity:0.1; fill:none\" points=\"2292.21,1474.16 2292.21,47.2441 \"/>\n",
       "<polyline clip-path=\"url(#clip100)\" style=\"stroke:#000000; stroke-linecap:round; stroke-linejoin:round; stroke-width:4; stroke-opacity:1; fill:none\" points=\"213.607,1474.16 2352.76,1474.16 \"/>\n",
       "<polyline clip-path=\"url(#clip100)\" style=\"stroke:#000000; stroke-linecap:round; stroke-linejoin:round; stroke-width:4; stroke-opacity:1; fill:none\" points=\"274.149,1474.16 274.149,1455.27 \"/>\n",
       "<polyline clip-path=\"url(#clip100)\" style=\"stroke:#000000; stroke-linecap:round; stroke-linejoin:round; stroke-width:4; stroke-opacity:1; fill:none\" points=\"1283.18,1474.16 1283.18,1455.27 \"/>\n",
       "<polyline clip-path=\"url(#clip100)\" style=\"stroke:#000000; stroke-linecap:round; stroke-linejoin:round; stroke-width:4; stroke-opacity:1; fill:none\" points=\"2292.21,1474.16 2292.21,1455.27 \"/>\n",
       "<path clip-path=\"url(#clip100)\" d=\"M240.477 1548.29 L248.116 1548.29 L248.116 1521.92 L239.806 1523.59 L239.806 1519.33 L248.07 1517.66 L252.745 1517.66 L252.745 1548.29 L260.384 1548.29 L260.384 1552.22 L240.477 1552.22 L240.477 1548.29 Z\" fill=\"#000000\" fill-rule=\"nonzero\" fill-opacity=\"1\" /><path clip-path=\"url(#clip100)\" d=\"M279.829 1520.74 Q276.218 1520.74 274.389 1524.31 Q272.583 1527.85 272.583 1534.98 Q272.583 1542.09 274.389 1545.65 Q276.218 1549.19 279.829 1549.19 Q283.463 1549.19 285.268 1545.65 Q287.097 1542.09 287.097 1534.98 Q287.097 1527.85 285.268 1524.31 Q283.463 1520.74 279.829 1520.74 M279.829 1517.04 Q285.639 1517.04 288.694 1521.65 Q291.773 1526.23 291.773 1534.98 Q291.773 1543.71 288.694 1548.31 Q285.639 1552.9 279.829 1552.9 Q274.018 1552.9 270.94 1548.31 Q267.884 1543.71 267.884 1534.98 Q267.884 1526.23 270.94 1521.65 Q274.018 1517.04 279.829 1517.04 Z\" fill=\"#000000\" fill-rule=\"nonzero\" fill-opacity=\"1\" /><path clip-path=\"url(#clip100)\" d=\"M292.318 1521.62 L298.525 1521.62 L298.525 1500.19 L291.773 1501.55 L291.773 1498.09 L298.487 1496.73 L302.287 1496.73 L302.287 1521.62 L308.493 1521.62 L308.493 1524.81 L292.318 1524.81 L292.318 1521.62 Z\" fill=\"#000000\" fill-rule=\"nonzero\" fill-opacity=\"1\" /><path clip-path=\"url(#clip100)\" d=\"M1248.95 1548.29 L1256.59 1548.29 L1256.59 1521.92 L1248.28 1523.59 L1248.28 1519.33 L1256.55 1517.66 L1261.22 1517.66 L1261.22 1548.29 L1268.86 1548.29 L1268.86 1552.22 L1248.95 1552.22 L1248.95 1548.29 Z\" fill=\"#000000\" fill-rule=\"nonzero\" fill-opacity=\"1\" /><path clip-path=\"url(#clip100)\" d=\"M1288.31 1520.74 Q1284.69 1520.74 1282.87 1524.31 Q1281.06 1527.85 1281.06 1534.98 Q1281.06 1542.09 1282.87 1545.65 Q1284.69 1549.19 1288.31 1549.19 Q1291.94 1549.19 1293.75 1545.65 Q1295.57 1542.09 1295.57 1534.98 Q1295.57 1527.85 1293.75 1524.31 Q1291.94 1520.74 1288.31 1520.74 M1288.31 1517.04 Q1294.12 1517.04 1297.17 1521.65 Q1300.25 1526.23 1300.25 1534.98 Q1300.25 1543.71 1297.17 1548.31 Q1294.12 1552.9 1288.31 1552.9 Q1282.5 1552.9 1279.42 1548.31 Q1276.36 1543.71 1276.36 1534.98 Q1276.36 1526.23 1279.42 1521.65 Q1282.5 1517.04 1288.31 1517.04 Z\" fill=\"#000000\" fill-rule=\"nonzero\" fill-opacity=\"1\" /><path clip-path=\"url(#clip100)\" d=\"M1304.82 1521.62 L1318.08 1521.62 L1318.08 1524.81 L1300.25 1524.81 L1300.25 1521.62 Q1302.41 1519.38 1306.14 1515.62 Q1309.88 1511.84 1310.84 1510.75 Q1312.66 1508.7 1313.38 1507.29 Q1314.11 1505.86 1314.11 1504.48 Q1314.11 1502.24 1312.53 1500.83 Q1310.97 1499.42 1308.45 1499.42 Q1306.66 1499.42 1304.67 1500.04 Q1302.7 1500.67 1300.44 1501.93 L1300.44 1498.09 Q1302.73 1497.17 1304.73 1496.7 Q1306.72 1496.23 1308.38 1496.23 Q1312.74 1496.23 1315.33 1498.41 Q1317.93 1500.59 1317.93 1504.24 Q1317.93 1505.97 1317.27 1507.53 Q1316.63 1509.07 1314.92 1511.18 Q1314.45 1511.72 1311.93 1514.34 Q1309.41 1516.93 1304.82 1521.62 Z\" fill=\"#000000\" fill-rule=\"nonzero\" fill-opacity=\"1\" /><path clip-path=\"url(#clip100)\" d=\"M2257.66 1548.29 L2265.3 1548.29 L2265.3 1521.92 L2256.99 1523.59 L2256.99 1519.33 L2265.25 1517.66 L2269.93 1517.66 L2269.93 1548.29 L2277.56 1548.29 L2277.56 1552.22 L2257.66 1552.22 L2257.66 1548.29 Z\" fill=\"#000000\" fill-rule=\"nonzero\" fill-opacity=\"1\" /><path clip-path=\"url(#clip100)\" d=\"M2297.01 1520.74 Q2293.4 1520.74 2291.57 1524.31 Q2289.76 1527.85 2289.76 1534.98 Q2289.76 1542.09 2291.57 1545.65 Q2293.4 1549.19 2297.01 1549.19 Q2300.64 1549.19 2302.45 1545.65 Q2304.28 1542.09 2304.28 1534.98 Q2304.28 1527.85 2302.45 1524.31 Q2300.64 1520.74 2297.01 1520.74 M2297.01 1517.04 Q2302.82 1517.04 2305.87 1521.65 Q2308.95 1526.23 2308.95 1534.98 Q2308.95 1543.71 2305.87 1548.31 Q2302.82 1552.9 2297.01 1552.9 Q2291.2 1552.9 2288.12 1548.31 Q2285.06 1543.71 2285.06 1534.98 Q2285.06 1526.23 2288.12 1521.65 Q2291.2 1517.04 2297.01 1517.04 Z\" fill=\"#000000\" fill-rule=\"nonzero\" fill-opacity=\"1\" /><path clip-path=\"url(#clip100)\" d=\"M2321.65 1509.67 Q2324.38 1510.26 2325.9 1512.1 Q2327.44 1513.94 2327.44 1516.65 Q2327.44 1520.81 2324.58 1523.08 Q2321.72 1525.36 2316.46 1525.36 Q2314.69 1525.36 2312.81 1525 Q2310.95 1524.66 2308.95 1523.97 L2308.95 1520.3 Q2310.53 1521.22 2312.41 1521.69 Q2314.3 1522.16 2316.35 1522.16 Q2319.92 1522.16 2321.78 1520.75 Q2323.66 1519.34 2323.66 1516.65 Q2323.66 1514.17 2321.91 1512.78 Q2320.18 1511.37 2317.08 1511.37 L2313.81 1511.37 L2313.81 1508.24 L2317.23 1508.24 Q2320.03 1508.24 2321.52 1507.13 Q2323 1506.01 2323 1503.9 Q2323 1501.74 2321.46 1500.59 Q2319.94 1499.42 2317.08 1499.42 Q2315.52 1499.42 2313.73 1499.76 Q2311.94 1500.1 2309.8 1500.82 L2309.8 1497.43 Q2311.96 1496.83 2313.84 1496.53 Q2315.74 1496.23 2317.42 1496.23 Q2321.74 1496.23 2324.26 1498.2 Q2326.78 1500.16 2326.78 1503.51 Q2326.78 1505.84 2325.45 1507.45 Q2324.11 1509.05 2321.65 1509.67 Z\" fill=\"#000000\" fill-rule=\"nonzero\" fill-opacity=\"1\" /><polyline clip-path=\"url(#clip102)\" style=\"stroke:#000000; stroke-linecap:round; stroke-linejoin:round; stroke-width:2; stroke-opacity:0.1; fill:none\" points=\"213.607,1059 2352.76,1059 \"/>\n",
       "<polyline clip-path=\"url(#clip102)\" style=\"stroke:#000000; stroke-linecap:round; stroke-linejoin:round; stroke-width:2; stroke-opacity:0.1; fill:none\" points=\"213.607,434.37 2352.76,434.37 \"/>\n",
       "<polyline clip-path=\"url(#clip100)\" style=\"stroke:#000000; stroke-linecap:round; stroke-linejoin:round; stroke-width:4; stroke-opacity:1; fill:none\" points=\"213.607,1474.16 213.607,47.2441 \"/>\n",
       "<polyline clip-path=\"url(#clip100)\" style=\"stroke:#000000; stroke-linecap:round; stroke-linejoin:round; stroke-width:4; stroke-opacity:1; fill:none\" points=\"213.607,1059 232.505,1059 \"/>\n",
       "<polyline clip-path=\"url(#clip100)\" style=\"stroke:#000000; stroke-linecap:round; stroke-linejoin:round; stroke-width:4; stroke-opacity:1; fill:none\" points=\"213.607,434.37 232.505,434.37 \"/>\n",
       "<path clip-path=\"url(#clip100)\" d=\"M52.4722 1078.79 L60.111 1078.79 L60.111 1052.43 L51.8009 1054.09 L51.8009 1049.84 L60.0647 1048.17 L64.7406 1048.17 L64.7406 1078.79 L72.3795 1078.79 L72.3795 1082.73 L52.4722 1082.73 L52.4722 1078.79 Z\" fill=\"#000000\" fill-rule=\"nonzero\" fill-opacity=\"1\" /><path clip-path=\"url(#clip100)\" d=\"M91.8238 1051.25 Q88.2127 1051.25 86.384 1054.81 Q84.5785 1058.35 84.5785 1065.48 Q84.5785 1072.59 86.384 1076.16 Q88.2127 1079.7 91.8238 1079.7 Q95.458 1079.7 97.2636 1076.16 Q99.0923 1072.59 99.0923 1065.48 Q99.0923 1058.35 97.2636 1054.81 Q95.458 1051.25 91.8238 1051.25 M91.8238 1047.54 Q97.6339 1047.54 100.689 1052.15 Q103.768 1056.73 103.768 1065.48 Q103.768 1074.21 100.689 1078.82 Q97.6339 1083.4 91.8238 1083.4 Q86.0136 1083.4 82.935 1078.82 Q79.8794 1074.21 79.8794 1065.48 Q79.8794 1056.73 82.935 1052.15 Q86.0136 1047.54 91.8238 1047.54 Z\" fill=\"#000000\" fill-rule=\"nonzero\" fill-opacity=\"1\" /><path clip-path=\"url(#clip100)\" d=\"M103.768 1041.65 L127.88 1041.65 L127.88 1044.84 L103.768 1044.84 L103.768 1041.65 Z\" fill=\"#000000\" fill-rule=\"nonzero\" fill-opacity=\"1\" /><path clip-path=\"url(#clip100)\" d=\"M136.738 1052.12 L142.945 1052.12 L142.945 1030.7 L136.193 1032.05 L136.193 1028.59 L142.907 1027.24 L146.706 1027.24 L146.706 1052.12 L152.913 1052.12 L152.913 1055.32 L136.738 1055.32 L136.738 1052.12 Z\" fill=\"#000000\" fill-rule=\"nonzero\" fill-opacity=\"1\" /><path clip-path=\"url(#clip100)\" d=\"M160.624 1027.24 L175.539 1027.24 L175.539 1030.44 L164.103 1030.44 L164.103 1037.32 Q164.931 1037.04 165.759 1036.91 Q166.586 1036.76 167.414 1036.76 Q172.116 1036.76 174.862 1039.33 Q177.607 1041.91 177.607 1046.31 Q177.607 1050.84 174.786 1053.36 Q171.965 1055.86 166.831 1055.86 Q165.063 1055.86 163.22 1055.56 Q161.395 1055.26 159.439 1054.66 L159.439 1050.84 Q161.132 1051.76 162.937 1052.22 Q164.743 1052.67 166.755 1052.67 Q170.009 1052.67 171.909 1050.96 Q173.808 1049.24 173.808 1046.31 Q173.808 1043.38 171.909 1041.66 Q170.009 1039.95 166.755 1039.95 Q165.232 1039.95 163.709 1040.29 Q162.204 1040.63 160.624 1041.34 L160.624 1027.24 Z\" fill=\"#000000\" fill-rule=\"nonzero\" fill-opacity=\"1\" /><path clip-path=\"url(#clip100)\" d=\"M51.6634 454.163 L59.3023 454.163 L59.3023 427.797 L50.9921 429.464 L50.9921 425.205 L59.256 423.538 L63.9319 423.538 L63.9319 454.163 L71.5707 454.163 L71.5707 458.098 L51.6634 458.098 L51.6634 454.163 Z\" fill=\"#000000\" fill-rule=\"nonzero\" fill-opacity=\"1\" /><path clip-path=\"url(#clip100)\" d=\"M91.0151 426.617 Q87.404 426.617 85.5753 430.182 Q83.7697 433.723 83.7697 440.853 Q83.7697 447.959 85.5753 451.524 Q87.404 455.066 91.0151 455.066 Q94.6493 455.066 96.4548 451.524 Q98.2835 447.959 98.2835 440.853 Q98.2835 433.723 96.4548 430.182 Q94.6493 426.617 91.0151 426.617 M91.0151 422.913 Q96.8252 422.913 99.8808 427.519 Q102.959 432.103 102.959 440.853 Q102.959 449.58 99.8808 454.186 Q96.8252 458.769 91.0151 458.769 Q85.2049 458.769 82.1262 454.186 Q79.0707 449.58 79.0707 440.853 Q79.0707 432.103 82.1262 427.519 Q85.2049 422.913 91.0151 422.913 Z\" fill=\"#000000\" fill-rule=\"nonzero\" fill-opacity=\"1\" /><path clip-path=\"url(#clip100)\" d=\"M102.959 417.014 L127.071 417.014 L127.071 420.212 L102.959 420.212 L102.959 417.014 Z\" fill=\"#000000\" fill-rule=\"nonzero\" fill-opacity=\"1\" /><path clip-path=\"url(#clip100)\" d=\"M135.929 427.49 L142.136 427.49 L142.136 406.068 L135.384 407.422 L135.384 403.962 L142.098 402.608 L145.898 402.608 L145.898 427.49 L152.104 427.49 L152.104 430.688 L135.929 430.688 L135.929 427.49 Z\" fill=\"#000000\" fill-rule=\"nonzero\" fill-opacity=\"1\" /><path clip-path=\"url(#clip100)\" d=\"M167.903 405.109 Q164.969 405.109 163.483 408.005 Q162.016 410.883 162.016 416.676 Q162.016 422.45 163.483 425.346 Q164.969 428.224 167.903 428.224 Q170.855 428.224 172.322 425.346 Q173.808 422.45 173.808 416.676 Q173.808 410.883 172.322 408.005 Q170.855 405.109 167.903 405.109 M167.903 402.1 Q172.623 402.1 175.106 405.843 Q177.607 409.566 177.607 416.676 Q177.607 423.766 175.106 427.509 Q172.623 431.233 167.903 431.233 Q163.182 431.233 160.68 427.509 Q158.198 423.766 158.198 416.676 Q158.198 409.566 160.68 405.843 Q163.182 402.1 167.903 402.1 Z\" fill=\"#000000\" fill-rule=\"nonzero\" fill-opacity=\"1\" /><polyline clip-path=\"url(#clip102)\" style=\"stroke:#009af9; stroke-linecap:round; stroke-linejoin:round; stroke-width:4; stroke-opacity:1; fill:none\" points=\"274.149,87.6286 577.898,238.043 755.58,326.034 881.647,388.466 979.433,436.892 1059.33,476.459 1126.88,509.913 1185.4,538.892 1237.01,564.449 1283.18,587.321 1324.95,608.002 1363.08,626.872 1398.15,644.248 1430.63,660.333 1460.86,675.327 1489.15,689.304 1515.71,702.442 1540.76,714.827 1564.45,726.633 1586.93,737.69 1608.31,748.316 1628.7,758.381 1648.18,768.084 1666.83,777.035 1684.72,785.844 1701.9,794.404 1718.44,802.936 1734.38,810.535 1749.76,818.795 1764.61,825.691 1778.98,833.973 1792.89,838.746 1806.38,847.282 1819.46,853.733 1832.16,857.125 1844.51,866.321 1856.52,869.524 1868.2,875.322 1879.58,882.276 1890.68,885.132 1901.5,889.719 1912.06,897.729 1922.37,912.52 1932.45,908.615 1942.29,911.716 1951.93,915.86 1961.35,919.418 1970.58,929.493 1979.61,937.856 1988.46,934.113 1997.14,946.218 2005.65,936.58 2014,941.876 2022.19,957.948 2030.23,968.213 2038.13,963.872 2045.88,954.33 2053.51,993.707 2061,965.999 2068.36,972.933 2075.6,993.707 2082.73,975.457 2089.74,980.886 2096.64,983.818 2103.44,1043.4 2110.13,972.933 2116.72,1015.7 2123.21,1005.81 2129.61,1001.47 2135.91,1043.4 2142.13,1021.41 2148.26,990.207 2154.3,1005.81 2160.26,1015.7 2166.15,990.207 2171.95,1015.7 2177.68,1001.47 2183.33,1027.8 2188.92,997.449 2194.43,1065.37 2199.87,1080.96 2205.25,1065.37 2210.56,1043.4 2215.81,1043.4 2221,1027.8 2226.12,1433.78 2231.19,1140.4 2236.2,1043.4 2241.15,1010.53 2246.04,1102.92 2250.89,1043.4 2255.67,1065.37 2260.41,1053.28 2265.1,1053.28 2269.74,1065.37 2274.33,997.449 2278.87,1035.04 2283.36,1080.96 2287.81,1053.28 2292.21,1140.4 \"/>\n",
       "<path clip-path=\"url(#clip100)\" d=\"M2015.11 198.488 L2281.45 198.488 L2281.45 94.8081 L2015.11 94.8081  Z\" fill=\"#ffffff\" fill-rule=\"evenodd\" fill-opacity=\"1\"/>\n",
       "<polyline clip-path=\"url(#clip100)\" style=\"stroke:#000000; stroke-linecap:round; stroke-linejoin:round; stroke-width:4; stroke-opacity:1; fill:none\" points=\"2015.11,198.488 2281.45,198.488 2281.45,94.8081 2015.11,94.8081 2015.11,198.488 \"/>\n",
       "<polyline clip-path=\"url(#clip100)\" style=\"stroke:#009af9; stroke-linecap:round; stroke-linejoin:round; stroke-width:4; stroke-opacity:1; fill:none\" points=\"2038.87,146.648 2181.48,146.648 \"/>\n",
       "<path clip-path=\"url(#clip100)\" d=\"M2219.09 166.336 Q2217.29 170.965 2215.58 172.377 Q2213.86 173.789 2210.99 173.789 L2207.59 173.789 L2207.59 170.224 L2210.09 170.224 Q2211.85 170.224 2212.82 169.391 Q2213.79 168.558 2214.97 165.456 L2215.74 163.511 L2205.25 138.002 L2209.77 138.002 L2217.87 158.28 L2225.97 138.002 L2230.48 138.002 L2219.09 166.336 Z\" fill=\"#000000\" fill-rule=\"nonzero\" fill-opacity=\"1\" /><path clip-path=\"url(#clip100)\" d=\"M2237.78 159.993 L2245.41 159.993 L2245.41 133.627 L2237.1 135.294 L2237.1 131.035 L2245.37 129.368 L2250.04 129.368 L2250.04 159.993 L2257.68 159.993 L2257.68 163.928 L2237.78 163.928 L2237.78 159.993 Z\" fill=\"#000000\" fill-rule=\"nonzero\" fill-opacity=\"1\" /></svg>\n"
      ],
      "text/html": [
       "<?xml version=\"1.0\" encoding=\"utf-8\"?>\n",
       "<svg xmlns=\"http://www.w3.org/2000/svg\" xmlns:xlink=\"http://www.w3.org/1999/xlink\" width=\"600\" height=\"400\" viewBox=\"0 0 2400 1600\">\n",
       "<defs>\n",
       "  <clipPath id=\"clip150\">\n",
       "    <rect x=\"0\" y=\"0\" width=\"2400\" height=\"1600\"/>\n",
       "  </clipPath>\n",
       "</defs>\n",
       "<path clip-path=\"url(#clip150)\" d=\"M0 1600 L2400 1600 L2400 0 L0 0  Z\" fill=\"#ffffff\" fill-rule=\"evenodd\" fill-opacity=\"1\"/>\n",
       "<defs>\n",
       "  <clipPath id=\"clip151\">\n",
       "    <rect x=\"480\" y=\"0\" width=\"1681\" height=\"1600\"/>\n",
       "  </clipPath>\n",
       "</defs>\n",
       "<path clip-path=\"url(#clip150)\" d=\"M213.607 1474.16 L2352.76 1474.16 L2352.76 47.2441 L213.607 47.2441  Z\" fill=\"#ffffff\" fill-rule=\"evenodd\" fill-opacity=\"1\"/>\n",
       "<defs>\n",
       "  <clipPath id=\"clip152\">\n",
       "    <rect x=\"213\" y=\"47\" width=\"2140\" height=\"1428\"/>\n",
       "  </clipPath>\n",
       "</defs>\n",
       "<polyline clip-path=\"url(#clip152)\" style=\"stroke:#000000; stroke-linecap:round; stroke-linejoin:round; stroke-width:2; stroke-opacity:0.1; fill:none\" points=\"274.149,1474.16 274.149,47.2441 \"/>\n",
       "<polyline clip-path=\"url(#clip152)\" style=\"stroke:#000000; stroke-linecap:round; stroke-linejoin:round; stroke-width:2; stroke-opacity:0.1; fill:none\" points=\"1283.18,1474.16 1283.18,47.2441 \"/>\n",
       "<polyline clip-path=\"url(#clip152)\" style=\"stroke:#000000; stroke-linecap:round; stroke-linejoin:round; stroke-width:2; stroke-opacity:0.1; fill:none\" points=\"2292.21,1474.16 2292.21,47.2441 \"/>\n",
       "<polyline clip-path=\"url(#clip150)\" style=\"stroke:#000000; stroke-linecap:round; stroke-linejoin:round; stroke-width:4; stroke-opacity:1; fill:none\" points=\"213.607,1474.16 2352.76,1474.16 \"/>\n",
       "<polyline clip-path=\"url(#clip150)\" style=\"stroke:#000000; stroke-linecap:round; stroke-linejoin:round; stroke-width:4; stroke-opacity:1; fill:none\" points=\"274.149,1474.16 274.149,1455.27 \"/>\n",
       "<polyline clip-path=\"url(#clip150)\" style=\"stroke:#000000; stroke-linecap:round; stroke-linejoin:round; stroke-width:4; stroke-opacity:1; fill:none\" points=\"1283.18,1474.16 1283.18,1455.27 \"/>\n",
       "<polyline clip-path=\"url(#clip150)\" style=\"stroke:#000000; stroke-linecap:round; stroke-linejoin:round; stroke-width:4; stroke-opacity:1; fill:none\" points=\"2292.21,1474.16 2292.21,1455.27 \"/>\n",
       "<path clip-path=\"url(#clip150)\" d=\"M240.477 1548.29 L248.116 1548.29 L248.116 1521.92 L239.806 1523.59 L239.806 1519.33 L248.07 1517.66 L252.745 1517.66 L252.745 1548.29 L260.384 1548.29 L260.384 1552.22 L240.477 1552.22 L240.477 1548.29 Z\" fill=\"#000000\" fill-rule=\"nonzero\" fill-opacity=\"1\" /><path clip-path=\"url(#clip150)\" d=\"M279.829 1520.74 Q276.218 1520.74 274.389 1524.31 Q272.583 1527.85 272.583 1534.98 Q272.583 1542.09 274.389 1545.65 Q276.218 1549.19 279.829 1549.19 Q283.463 1549.19 285.268 1545.65 Q287.097 1542.09 287.097 1534.98 Q287.097 1527.85 285.268 1524.31 Q283.463 1520.74 279.829 1520.74 M279.829 1517.04 Q285.639 1517.04 288.694 1521.65 Q291.773 1526.23 291.773 1534.98 Q291.773 1543.71 288.694 1548.31 Q285.639 1552.9 279.829 1552.9 Q274.018 1552.9 270.94 1548.31 Q267.884 1543.71 267.884 1534.98 Q267.884 1526.23 270.94 1521.65 Q274.018 1517.04 279.829 1517.04 Z\" fill=\"#000000\" fill-rule=\"nonzero\" fill-opacity=\"1\" /><path clip-path=\"url(#clip150)\" d=\"M292.318 1521.62 L298.525 1521.62 L298.525 1500.19 L291.773 1501.55 L291.773 1498.09 L298.487 1496.73 L302.287 1496.73 L302.287 1521.62 L308.493 1521.62 L308.493 1524.81 L292.318 1524.81 L292.318 1521.62 Z\" fill=\"#000000\" fill-rule=\"nonzero\" fill-opacity=\"1\" /><path clip-path=\"url(#clip150)\" d=\"M1248.95 1548.29 L1256.59 1548.29 L1256.59 1521.92 L1248.28 1523.59 L1248.28 1519.33 L1256.55 1517.66 L1261.22 1517.66 L1261.22 1548.29 L1268.86 1548.29 L1268.86 1552.22 L1248.95 1552.22 L1248.95 1548.29 Z\" fill=\"#000000\" fill-rule=\"nonzero\" fill-opacity=\"1\" /><path clip-path=\"url(#clip150)\" d=\"M1288.31 1520.74 Q1284.69 1520.74 1282.87 1524.31 Q1281.06 1527.85 1281.06 1534.98 Q1281.06 1542.09 1282.87 1545.65 Q1284.69 1549.19 1288.31 1549.19 Q1291.94 1549.19 1293.75 1545.65 Q1295.57 1542.09 1295.57 1534.98 Q1295.57 1527.85 1293.75 1524.31 Q1291.94 1520.74 1288.31 1520.74 M1288.31 1517.04 Q1294.12 1517.04 1297.17 1521.65 Q1300.25 1526.23 1300.25 1534.98 Q1300.25 1543.71 1297.17 1548.31 Q1294.12 1552.9 1288.31 1552.9 Q1282.5 1552.9 1279.42 1548.31 Q1276.36 1543.71 1276.36 1534.98 Q1276.36 1526.23 1279.42 1521.65 Q1282.5 1517.04 1288.31 1517.04 Z\" fill=\"#000000\" fill-rule=\"nonzero\" fill-opacity=\"1\" /><path clip-path=\"url(#clip150)\" d=\"M1304.82 1521.62 L1318.08 1521.62 L1318.08 1524.81 L1300.25 1524.81 L1300.25 1521.62 Q1302.41 1519.38 1306.14 1515.62 Q1309.88 1511.84 1310.84 1510.75 Q1312.66 1508.7 1313.38 1507.29 Q1314.11 1505.86 1314.11 1504.48 Q1314.11 1502.24 1312.53 1500.83 Q1310.97 1499.42 1308.45 1499.42 Q1306.66 1499.42 1304.67 1500.04 Q1302.7 1500.67 1300.44 1501.93 L1300.44 1498.09 Q1302.73 1497.17 1304.73 1496.7 Q1306.72 1496.23 1308.38 1496.23 Q1312.74 1496.23 1315.33 1498.41 Q1317.93 1500.59 1317.93 1504.24 Q1317.93 1505.97 1317.27 1507.53 Q1316.63 1509.07 1314.92 1511.18 Q1314.45 1511.72 1311.93 1514.34 Q1309.41 1516.93 1304.82 1521.62 Z\" fill=\"#000000\" fill-rule=\"nonzero\" fill-opacity=\"1\" /><path clip-path=\"url(#clip150)\" d=\"M2257.66 1548.29 L2265.3 1548.29 L2265.3 1521.92 L2256.99 1523.59 L2256.99 1519.33 L2265.25 1517.66 L2269.93 1517.66 L2269.93 1548.29 L2277.56 1548.29 L2277.56 1552.22 L2257.66 1552.22 L2257.66 1548.29 Z\" fill=\"#000000\" fill-rule=\"nonzero\" fill-opacity=\"1\" /><path clip-path=\"url(#clip150)\" d=\"M2297.01 1520.74 Q2293.4 1520.74 2291.57 1524.31 Q2289.76 1527.85 2289.76 1534.98 Q2289.76 1542.09 2291.57 1545.65 Q2293.4 1549.19 2297.01 1549.19 Q2300.64 1549.19 2302.45 1545.65 Q2304.28 1542.09 2304.28 1534.98 Q2304.28 1527.85 2302.45 1524.31 Q2300.64 1520.74 2297.01 1520.74 M2297.01 1517.04 Q2302.82 1517.04 2305.87 1521.65 Q2308.95 1526.23 2308.95 1534.98 Q2308.95 1543.71 2305.87 1548.31 Q2302.82 1552.9 2297.01 1552.9 Q2291.2 1552.9 2288.12 1548.31 Q2285.06 1543.71 2285.06 1534.98 Q2285.06 1526.23 2288.12 1521.65 Q2291.2 1517.04 2297.01 1517.04 Z\" fill=\"#000000\" fill-rule=\"nonzero\" fill-opacity=\"1\" /><path clip-path=\"url(#clip150)\" d=\"M2321.65 1509.67 Q2324.38 1510.26 2325.9 1512.1 Q2327.44 1513.94 2327.44 1516.65 Q2327.44 1520.81 2324.58 1523.08 Q2321.72 1525.36 2316.46 1525.36 Q2314.69 1525.36 2312.81 1525 Q2310.95 1524.66 2308.95 1523.97 L2308.95 1520.3 Q2310.53 1521.22 2312.41 1521.69 Q2314.3 1522.16 2316.35 1522.16 Q2319.92 1522.16 2321.78 1520.75 Q2323.66 1519.34 2323.66 1516.65 Q2323.66 1514.17 2321.91 1512.78 Q2320.18 1511.37 2317.08 1511.37 L2313.81 1511.37 L2313.81 1508.24 L2317.23 1508.24 Q2320.03 1508.24 2321.52 1507.13 Q2323 1506.01 2323 1503.9 Q2323 1501.74 2321.46 1500.59 Q2319.94 1499.42 2317.08 1499.42 Q2315.52 1499.42 2313.73 1499.76 Q2311.94 1500.1 2309.8 1500.82 L2309.8 1497.43 Q2311.96 1496.83 2313.84 1496.53 Q2315.74 1496.23 2317.42 1496.23 Q2321.74 1496.23 2324.26 1498.2 Q2326.78 1500.16 2326.78 1503.51 Q2326.78 1505.84 2325.45 1507.45 Q2324.11 1509.05 2321.65 1509.67 Z\" fill=\"#000000\" fill-rule=\"nonzero\" fill-opacity=\"1\" /><polyline clip-path=\"url(#clip152)\" style=\"stroke:#000000; stroke-linecap:round; stroke-linejoin:round; stroke-width:2; stroke-opacity:0.1; fill:none\" points=\"213.607,1059 2352.76,1059 \"/>\n",
       "<polyline clip-path=\"url(#clip152)\" style=\"stroke:#000000; stroke-linecap:round; stroke-linejoin:round; stroke-width:2; stroke-opacity:0.1; fill:none\" points=\"213.607,434.37 2352.76,434.37 \"/>\n",
       "<polyline clip-path=\"url(#clip150)\" style=\"stroke:#000000; stroke-linecap:round; stroke-linejoin:round; stroke-width:4; stroke-opacity:1; fill:none\" points=\"213.607,1474.16 213.607,47.2441 \"/>\n",
       "<polyline clip-path=\"url(#clip150)\" style=\"stroke:#000000; stroke-linecap:round; stroke-linejoin:round; stroke-width:4; stroke-opacity:1; fill:none\" points=\"213.607,1059 232.505,1059 \"/>\n",
       "<polyline clip-path=\"url(#clip150)\" style=\"stroke:#000000; stroke-linecap:round; stroke-linejoin:round; stroke-width:4; stroke-opacity:1; fill:none\" points=\"213.607,434.37 232.505,434.37 \"/>\n",
       "<path clip-path=\"url(#clip150)\" d=\"M52.4722 1078.79 L60.111 1078.79 L60.111 1052.43 L51.8009 1054.09 L51.8009 1049.84 L60.0647 1048.17 L64.7406 1048.17 L64.7406 1078.79 L72.3795 1078.79 L72.3795 1082.73 L52.4722 1082.73 L52.4722 1078.79 Z\" fill=\"#000000\" fill-rule=\"nonzero\" fill-opacity=\"1\" /><path clip-path=\"url(#clip150)\" d=\"M91.8238 1051.25 Q88.2127 1051.25 86.384 1054.81 Q84.5785 1058.35 84.5785 1065.48 Q84.5785 1072.59 86.384 1076.16 Q88.2127 1079.7 91.8238 1079.7 Q95.458 1079.7 97.2636 1076.16 Q99.0923 1072.59 99.0923 1065.48 Q99.0923 1058.35 97.2636 1054.81 Q95.458 1051.25 91.8238 1051.25 M91.8238 1047.54 Q97.6339 1047.54 100.689 1052.15 Q103.768 1056.73 103.768 1065.48 Q103.768 1074.21 100.689 1078.82 Q97.6339 1083.4 91.8238 1083.4 Q86.0136 1083.4 82.935 1078.82 Q79.8794 1074.21 79.8794 1065.48 Q79.8794 1056.73 82.935 1052.15 Q86.0136 1047.54 91.8238 1047.54 Z\" fill=\"#000000\" fill-rule=\"nonzero\" fill-opacity=\"1\" /><path clip-path=\"url(#clip150)\" d=\"M103.768 1041.65 L127.88 1041.65 L127.88 1044.84 L103.768 1044.84 L103.768 1041.65 Z\" fill=\"#000000\" fill-rule=\"nonzero\" fill-opacity=\"1\" /><path clip-path=\"url(#clip150)\" d=\"M136.738 1052.12 L142.945 1052.12 L142.945 1030.7 L136.193 1032.05 L136.193 1028.59 L142.907 1027.24 L146.706 1027.24 L146.706 1052.12 L152.913 1052.12 L152.913 1055.32 L136.738 1055.32 L136.738 1052.12 Z\" fill=\"#000000\" fill-rule=\"nonzero\" fill-opacity=\"1\" /><path clip-path=\"url(#clip150)\" d=\"M160.624 1027.24 L175.539 1027.24 L175.539 1030.44 L164.103 1030.44 L164.103 1037.32 Q164.931 1037.04 165.759 1036.91 Q166.586 1036.76 167.414 1036.76 Q172.116 1036.76 174.862 1039.33 Q177.607 1041.91 177.607 1046.31 Q177.607 1050.84 174.786 1053.36 Q171.965 1055.86 166.831 1055.86 Q165.063 1055.86 163.22 1055.56 Q161.395 1055.26 159.439 1054.66 L159.439 1050.84 Q161.132 1051.76 162.937 1052.22 Q164.743 1052.67 166.755 1052.67 Q170.009 1052.67 171.909 1050.96 Q173.808 1049.24 173.808 1046.31 Q173.808 1043.38 171.909 1041.66 Q170.009 1039.95 166.755 1039.95 Q165.232 1039.95 163.709 1040.29 Q162.204 1040.63 160.624 1041.34 L160.624 1027.24 Z\" fill=\"#000000\" fill-rule=\"nonzero\" fill-opacity=\"1\" /><path clip-path=\"url(#clip150)\" d=\"M51.6634 454.163 L59.3023 454.163 L59.3023 427.797 L50.9921 429.464 L50.9921 425.205 L59.256 423.538 L63.9319 423.538 L63.9319 454.163 L71.5707 454.163 L71.5707 458.098 L51.6634 458.098 L51.6634 454.163 Z\" fill=\"#000000\" fill-rule=\"nonzero\" fill-opacity=\"1\" /><path clip-path=\"url(#clip150)\" d=\"M91.0151 426.617 Q87.404 426.617 85.5753 430.182 Q83.7697 433.723 83.7697 440.853 Q83.7697 447.959 85.5753 451.524 Q87.404 455.066 91.0151 455.066 Q94.6493 455.066 96.4548 451.524 Q98.2835 447.959 98.2835 440.853 Q98.2835 433.723 96.4548 430.182 Q94.6493 426.617 91.0151 426.617 M91.0151 422.913 Q96.8252 422.913 99.8808 427.519 Q102.959 432.103 102.959 440.853 Q102.959 449.58 99.8808 454.186 Q96.8252 458.769 91.0151 458.769 Q85.2049 458.769 82.1262 454.186 Q79.0707 449.58 79.0707 440.853 Q79.0707 432.103 82.1262 427.519 Q85.2049 422.913 91.0151 422.913 Z\" fill=\"#000000\" fill-rule=\"nonzero\" fill-opacity=\"1\" /><path clip-path=\"url(#clip150)\" d=\"M102.959 417.014 L127.071 417.014 L127.071 420.212 L102.959 420.212 L102.959 417.014 Z\" fill=\"#000000\" fill-rule=\"nonzero\" fill-opacity=\"1\" /><path clip-path=\"url(#clip150)\" d=\"M135.929 427.49 L142.136 427.49 L142.136 406.068 L135.384 407.422 L135.384 403.962 L142.098 402.608 L145.898 402.608 L145.898 427.49 L152.104 427.49 L152.104 430.688 L135.929 430.688 L135.929 427.49 Z\" fill=\"#000000\" fill-rule=\"nonzero\" fill-opacity=\"1\" /><path clip-path=\"url(#clip150)\" d=\"M167.903 405.109 Q164.969 405.109 163.483 408.005 Q162.016 410.883 162.016 416.676 Q162.016 422.45 163.483 425.346 Q164.969 428.224 167.903 428.224 Q170.855 428.224 172.322 425.346 Q173.808 422.45 173.808 416.676 Q173.808 410.883 172.322 408.005 Q170.855 405.109 167.903 405.109 M167.903 402.1 Q172.623 402.1 175.106 405.843 Q177.607 409.566 177.607 416.676 Q177.607 423.766 175.106 427.509 Q172.623 431.233 167.903 431.233 Q163.182 431.233 160.68 427.509 Q158.198 423.766 158.198 416.676 Q158.198 409.566 160.68 405.843 Q163.182 402.1 167.903 402.1 Z\" fill=\"#000000\" fill-rule=\"nonzero\" fill-opacity=\"1\" /><polyline clip-path=\"url(#clip152)\" style=\"stroke:#009af9; stroke-linecap:round; stroke-linejoin:round; stroke-width:4; stroke-opacity:1; fill:none\" points=\"274.149,87.6286 577.898,238.043 755.58,326.034 881.647,388.466 979.433,436.892 1059.33,476.459 1126.88,509.913 1185.4,538.892 1237.01,564.449 1283.18,587.321 1324.95,608.002 1363.08,626.872 1398.15,644.248 1430.63,660.333 1460.86,675.327 1489.15,689.304 1515.71,702.442 1540.76,714.827 1564.45,726.633 1586.93,737.69 1608.31,748.316 1628.7,758.381 1648.18,768.084 1666.83,777.035 1684.72,785.844 1701.9,794.404 1718.44,802.936 1734.38,810.535 1749.76,818.795 1764.61,825.691 1778.98,833.973 1792.89,838.746 1806.38,847.282 1819.46,853.733 1832.16,857.125 1844.51,866.321 1856.52,869.524 1868.2,875.322 1879.58,882.276 1890.68,885.132 1901.5,889.719 1912.06,897.729 1922.37,912.52 1932.45,908.615 1942.29,911.716 1951.93,915.86 1961.35,919.418 1970.58,929.493 1979.61,937.856 1988.46,934.113 1997.14,946.218 2005.65,936.58 2014,941.876 2022.19,957.948 2030.23,968.213 2038.13,963.872 2045.88,954.33 2053.51,993.707 2061,965.999 2068.36,972.933 2075.6,993.707 2082.73,975.457 2089.74,980.886 2096.64,983.818 2103.44,1043.4 2110.13,972.933 2116.72,1015.7 2123.21,1005.81 2129.61,1001.47 2135.91,1043.4 2142.13,1021.41 2148.26,990.207 2154.3,1005.81 2160.26,1015.7 2166.15,990.207 2171.95,1015.7 2177.68,1001.47 2183.33,1027.8 2188.92,997.449 2194.43,1065.37 2199.87,1080.96 2205.25,1065.37 2210.56,1043.4 2215.81,1043.4 2221,1027.8 2226.12,1433.78 2231.19,1140.4 2236.2,1043.4 2241.15,1010.53 2246.04,1102.92 2250.89,1043.4 2255.67,1065.37 2260.41,1053.28 2265.1,1053.28 2269.74,1065.37 2274.33,997.449 2278.87,1035.04 2283.36,1080.96 2287.81,1053.28 2292.21,1140.4 \"/>\n",
       "<path clip-path=\"url(#clip150)\" d=\"M2015.11 198.488 L2281.45 198.488 L2281.45 94.8081 L2015.11 94.8081  Z\" fill=\"#ffffff\" fill-rule=\"evenodd\" fill-opacity=\"1\"/>\n",
       "<polyline clip-path=\"url(#clip150)\" style=\"stroke:#000000; stroke-linecap:round; stroke-linejoin:round; stroke-width:4; stroke-opacity:1; fill:none\" points=\"2015.11,198.488 2281.45,198.488 2281.45,94.8081 2015.11,94.8081 2015.11,198.488 \"/>\n",
       "<polyline clip-path=\"url(#clip150)\" style=\"stroke:#009af9; stroke-linecap:round; stroke-linejoin:round; stroke-width:4; stroke-opacity:1; fill:none\" points=\"2038.87,146.648 2181.48,146.648 \"/>\n",
       "<path clip-path=\"url(#clip150)\" d=\"M2219.09 166.336 Q2217.29 170.965 2215.58 172.377 Q2213.86 173.789 2210.99 173.789 L2207.59 173.789 L2207.59 170.224 L2210.09 170.224 Q2211.85 170.224 2212.82 169.391 Q2213.79 168.558 2214.97 165.456 L2215.74 163.511 L2205.25 138.002 L2209.77 138.002 L2217.87 158.28 L2225.97 138.002 L2230.48 138.002 L2219.09 166.336 Z\" fill=\"#000000\" fill-rule=\"nonzero\" fill-opacity=\"1\" /><path clip-path=\"url(#clip150)\" d=\"M2237.78 159.993 L2245.41 159.993 L2245.41 133.627 L2237.1 135.294 L2237.1 131.035 L2245.37 129.368 L2250.04 129.368 L2250.04 159.993 L2257.68 159.993 L2257.68 163.928 L2237.78 163.928 L2237.78 159.993 Z\" fill=\"#000000\" fill-rule=\"nonzero\" fill-opacity=\"1\" /></svg>\n"
      ]
     },
     "execution_count": 28,
     "metadata": {},
     "output_type": "execute_result"
    }
   ],
   "source": [
    "# TODO: vary n and deduce the converge rate, either by looking at errors or by plotting\n",
    "n = 10 .* (1:100)\n",
    "\n",
    "errs = abs.(simpsonsrule.(exp, n) .- (exp(1)-1)) .+ 1e-18\n",
    "plot(n, errs, yscale=:log10, xscale=:log10) # seems about O(n^-4)\n"
   ]
  },
  {
   "cell_type": "markdown",
   "metadata": {},
   "source": [
    "**Problem 2** Consider a 3-term divided-difference approximation\n",
    "$$\n",
    "f'(x) ≈ {5f(x+2h) - 3f(x) - 2f(x-h) \\over 12h}\n",
    "$$\n",
    "Implement this in the following function."
   ]
  },
  {
   "cell_type": "code",
   "execution_count": 5,
   "metadata": {},
   "outputs": [
    {
     "data": {
      "text/plain": [
       "\u001b[32m\u001b[1mTest Passed\u001b[22m\u001b[39m"
      ]
     },
     "execution_count": 5,
     "metadata": {},
     "output_type": "execute_result"
    }
   ],
   "source": [
    "function threeterm_divideddifference(f, x, h)\n",
    "    (5*f(x+2*h) - 3*f(x) - 2*f(x-h)) / (12*h)\n",
    "\n",
    "end\n",
    "@test threeterm_divideddifference(exp, 0, 0.0000001) ≈ 1 atol=1E-5"
   ]
  },
  {
   "cell_type": "markdown",
   "metadata": {},
   "source": [
    "**Problem 3** Using the following simplified `Dual` implementation, consider a double-dual number\n",
    "like `Dual(Dual(a,b), Dual(c,d))`. By choosing `a`, `b`, `c` and `d`, construct the function `secondderivative(f, x)`\n",
    "that computes the second derivative of a function. Hint: it might help to think of a double-dual number as\n",
    "$(a + b*ε) + δ*(c + d*ε)$ where $ε^2 = δ^2 = 0$."
   ]
  },
  {
   "cell_type": "code",
   "execution_count": 6,
   "metadata": {},
   "outputs": [
    {
     "data": {
      "text/plain": [
       "\u001b[32m\u001b[1mTest Passed\u001b[22m\u001b[39m"
      ]
     },
     "execution_count": 6,
     "metadata": {},
     "output_type": "execute_result"
    }
   ],
   "source": [
    "struct Dual\n",
    "    a\n",
    "    b\n",
    "end\n",
    "\n",
    "import Base: +, *, exp\n",
    "function +(x::Dual, y::Dual)\n",
    "    a,b = x.a, x.b # x == a+bϵ. This gets out a and b\n",
    "    c,d = y.a, y.b # y == c+dϵ. This gets out c and d\n",
    "    Dual(a+c, b+d)\n",
    "end\n",
    "function *(x::Dual, y::Dual)\n",
    "    a,b = x.a, x.b # x == a+bϵ. This gets out a and b\n",
    "    c,d = y.a, y.b # y == c+dϵ. This gets out c and d\n",
    "    Dual(a*c, b*c + a*d)\n",
    "end\n",
    "exp(x::Dual) = Dual(exp(x.a), exp(x.a) * x.b)\n",
    "\n",
    "\n",
    "function secondderivative(f, x)\n",
    "    # TODO: compute the second derivative of f using a double-dual number\n",
    "    f(Dual(Dual(x, 1), Dual(1, 0))).b.b\n",
    "end\n",
    "\n",
    "f = x -> exp(x*exp(x))\n",
    "@test secondderivative(f, 0) ≈ 3"
   ]
  },
  {
   "cell_type": "markdown",
   "metadata": {},
   "source": [
    "**Problem 4** Implement the following function\n",
    "`primedigits` that constructs a positive `Float64` of the form $2^q * (1.b_1…b_S)$\n",
    "where the exponent is specified by `q` and has significand\n",
    "bits\n",
    "$$\n",
    "b_k = \\begin{cases}\n",
    "    1 & k\\hbox{ is prime} \\\\\n",
    "    0 & \\hbox{otherwise}\n",
    "    \\end{cases}\n",
    "$$\n",
    "Hint: use the `gcd` function to determine if a number is prime."
   ]
  },
  {
   "cell_type": "code",
   "execution_count": 11,
   "metadata": {},
   "outputs": [
    {
     "data": {
      "text/plain": [
       "\u001b[32m\u001b[1mTest Passed\u001b[22m\u001b[39m"
      ]
     },
     "execution_count": 11,
     "metadata": {},
     "output_type": "execute_result"
    }
   ],
   "source": [
    "function primedigits(q)\n",
    "    # TODO: return a Float64 with the specified bits.\n",
    "    r = Float64(1) \n",
    "\n",
    "    for k=2:52\n",
    "        if isprime_t(k)\n",
    "            r += (Float64(2)^(-k))\n",
    "        end\n",
    "    end\n",
    "\n",
    "    r * 2^q\n",
    "end\n",
    "\n",
    "function isprime_t(n)\n",
    "    n = Int(floor(n))  \n",
    "    for k = 2:floor(sqrt(n))\n",
    "        if n % k == 0\n",
    "            return false\n",
    "        end\n",
    "    end\n",
    "    return true\n",
    "end\n",
    "\n",
    "\n",
    "\n",
    "@test primedigits(3) == 11.317460078808892"
   ]
  },
  {
   "cell_type": "markdown",
   "metadata": {},
   "source": [
    "**Problem 5** Implement the `sqrt` function with correctly rounded interval arithmetic."
   ]
  },
  {
   "cell_type": "code",
   "execution_count": null,
   "metadata": {},
   "outputs": [
    {
     "data": {
      "text/plain": [
       "\u001b[32m\u001b[1mTest Passed\u001b[22m\u001b[39m"
      ]
     },
     "execution_count": 62,
     "metadata": {},
     "output_type": "execute_result"
    }
   ],
   "source": [
    "struct Interval # represents the set [a,b]\n",
    "    a # left endpoint\n",
    "    b # right endpoint\n",
    "end\n",
    "\n",
    "Interval(x) = Interval(x,x) # Support Interval(1) to represent [1,1]\n",
    "\n",
    "import Base: sqrt, in\n",
    "in(x, X::Interval) = X.a ≤ x ≤ X.b\n",
    "\n",
    "function sqrt(X::Interval)\n",
    "    a,b = promote(X.a, X.b) # make sure all are the same type\n",
    "    T = typeof(a)\n",
    "    # TODO: implement sqrt by correctly rounding the computation.\n",
    "    α = setrounding(T, RoundDown) do \n",
    "        sqrt(a)\n",
    "    end\n",
    "    \n",
    "\n",
    "    β = setrounding(T, RoundUp) do \n",
    "        sqrt(b)\n",
    "    end\n",
    "\n",
    "    Interval(α, β)\n",
    "end\n",
    "\n",
    "@test sqrt(big(2.0)) in sqrt(Interval(2.0))"
   ]
  },
  {
   "cell_type": "markdown",
   "metadata": {},
   "source": [
    "**Problem 6(a)**  Consider the Schrödinger equation with quadratic oscillator:\n",
    "$$\n",
    "u(-L) = u(L) = 0, -u'' + x^2 u = f(x)\n",
    "$$\n",
    "Use row-eliminations to recast the tridiagonal finite-difference discretisation as a symmetric tridiagonal\n",
    "system, solved via the `SymTridiagonal` type,."
   ]
  },
  {
   "cell_type": "code",
   "execution_count": 29,
   "metadata": {},
   "outputs": [
    {
     "data": {
      "text/plain": [
       "\u001b[32m\u001b[1mTest Passed\u001b[22m\u001b[39m"
      ]
     },
     "execution_count": 29,
     "metadata": {},
     "output_type": "execute_result"
    }
   ],
   "source": [
    "function schrodingersolve(n, L, f)\n",
    "    x = range(-L,L;length=n+1) # discretisation grid\n",
    "    h = (2*L)/n\n",
    "    # TODO: Implement finite differences using a SymTridiagonal matrix, by using the knowledge of the solution at ±L.\n",
    "    A = SymTridiagonal([1; 2/(h^2) .+ (x[2:end-1] .^ 2); 1], [fill(-1/(h^2), n-1); 0])\n",
    "    fs = f.(x)\n",
    "    A \\ fs\n",
    "end\n",
    "\n",
    "f = x-> 2exp(-x^2) - 3exp(-x^2)*x^2\n",
    "n,L = 10000,10\n",
    "x = range(-L,L;length=n+1)\n",
    "@test schrodingersolve(n, L, f) ≈ exp.(-x.^2) atol=1E-4"
   ]
  },
  {
   "cell_type": "markdown",
   "metadata": {},
   "source": [
    "**Problem 6(b)** The `eigvals` function computes eigenvalues of a matrix. Use this alongside the\n",
    "symmetric diagonal discretisation to approximate $λ$ such that\n",
    "$$\n",
    "u(-L) = u(L) = 0, -u'' + x^2 u = λ u\n",
    "$$\n",
    "has a non-zero solution (i.e., an eigenvalue of the differential equation).\n",
    "Can you conjecture their exact value if $L → ∞$?"
   ]
  },
  {
   "cell_type": "code",
   "execution_count": 43,
   "metadata": {},
   "outputs": [
    {
     "data": {
      "text/plain": [
       "10001-element Vector{Float64}:\n",
       "  -415.8087696990055\n",
       "     0.9999749994599447\n",
       "     1.0\n",
       "     2.9998749943858094\n",
       "     4.999674978091564\n",
       "     6.999374943112224\n",
       "     8.998974881885514\n",
       "    10.998474786702214\n",
       "    12.997874650459181\n",
       "    14.997174465380942\n",
       "    16.996374223937522\n",
       "    18.995473918715376\n",
       "    20.99447354227129\n",
       "     ⋮\n",
       " 19693.333397637245\n",
       " 19693.891839468\n",
       " 19729.790288941047\n",
       " 19730.350288390975\n",
       " 19768.974991311916\n",
       " 19769.536663095503\n",
       " 19811.912244534942\n",
       " 19812.475746636243\n",
       " 19860.584906672644\n",
       " 19861.150480849992\n",
       " 19920.165669523638\n",
       " 19920.733776226618"
      ]
     },
     "execution_count": 43,
     "metadata": {},
     "output_type": "execute_result"
    }
   ],
   "source": [
    "function shrodingereigvals(n, L)\n",
    "    x = range(-L,L;length=n+1) # discretisation grid\n",
    "    # TODO: Use eigvals with a SymTridiagonal discretisation to approximate the eigenvalues of a Schrödinger operator\n",
    "    h = (2*L)/n\n",
    "    A = SymTridiagonal([1; 2/(h^2) .+ (x[2:end-1] .^ 2); 1], [fill(-1/(h^2), n-1); 0])\n",
    "    eigvals(A)\n",
    "end\n",
    "\n",
    "# TODO: add experiments and a comment where you conjecture the true eigenvalues.\n",
    "shrodingereigvals(10_000, 100) # eigenvalues are 2k + 1 for k ∈ 𝐍"
   ]
  },
  {
   "cell_type": "markdown",
   "metadata": {},
   "source": [
    "**Problem 7** Implement `reversecholesky(A)` that returns an upper-triangular matrix `U` such that `U*U' ≈ A`.\n",
    "You may assume the input is symmetric positive definite and has `Float64` values. You must not use the inbuilt `cholesky`\n",
    "function or in any other way reduce the problem to a standard Cholesky factorisation."
   ]
  },
  {
   "cell_type": "code",
   "execution_count": 44,
   "metadata": {},
   "outputs": [
    {
     "data": {
      "text/plain": [
       "\u001b[32m\u001b[1mTest Passed\u001b[22m\u001b[39m"
      ]
     },
     "execution_count": 44,
     "metadata": {},
     "output_type": "execute_result"
    }
   ],
   "source": [
    "function reversecholesky(A)\n",
    "    n,m = size(A)\n",
    "    if n ≠ m\n",
    "        error(\"Matrix must be square\")\n",
    "    end\n",
    "    if A ≠ A'\n",
    "        error(\"Matrix must be symmetric\")\n",
    "    end\n",
    "    U = UpperTriangular(zeros(n,n))\n",
    "    # TODO: populate U so that U'U ≈ A\n",
    "\n",
    "    Aⱼ = copy(A)\n",
    "    for j = n:-1:1\n",
    "        α,𝐯 = Aⱼ[j,j],Aⱼ[j,1:j-1]\n",
    "\n",
    "        U[j,j] = sqrt(α)\n",
    "        U[1:j-1,j] = 𝐯/sqrt(α)\n",
    "\n",
    "        # induction part\n",
    "        K = Aⱼ[1:j-1, 1:j-1] # drop first row and column of A\n",
    "        Aⱼ = K - 𝐯*𝐯'/α\n",
    "    end\n",
    "\n",
    "    U\n",
    "end\n",
    "\n",
    "A = [2 1 0; 1 2 1; 0 1 2]\n",
    "U = reversecholesky(A)\n",
    "@test U*U' ≈ A"
   ]
  },
  {
   "cell_type": "markdown",
   "metadata": {},
   "source": [
    "**Problem 8** Complete the function `lagrangebasis(g, k, x)` where `g` is a vector of grid\n",
    "points, that computes the Lagrange basis function at the point `x`. You may assume all numbers\n",
    "are `Float64`."
   ]
  },
  {
   "cell_type": "code",
   "execution_count": null,
   "metadata": {},
   "outputs": [
    {
     "data": {
      "text/plain": [
       "\u001b[32m\u001b[1mTest Passed\u001b[22m\u001b[39m"
      ]
     },
     "execution_count": 81,
     "metadata": {},
     "output_type": "execute_result"
    }
   ],
   "source": [
    "function lagrangebasis(g::AbstractVector, k, x)\n",
    "    n = length(g) # number of points\n",
    "    ## TODO: compute ℓ_k(x) corresponding to the grid g\n",
    "    prod = 1\n",
    "\n",
    "    for m=1:length(g) \n",
    "        if m != k \n",
    "            prod *= (x-g[m])/(g[k]-g[m])\n",
    "        end\n",
    "    end\n",
    "    prod\n",
    "end\n",
    "\n",
    "g = 1:5\n",
    "@test lagrangebasis(g, 2, 2) == 1\n",
    "@test lagrangebasis(g, 2, 3) == lagrangebasis(g, 2, 4) ==  0\n",
    "@test lagrangebasis(g, 3, 0.1) ≈ 8.169525"
   ]
  },
  {
   "cell_type": "markdown",
   "metadata": {},
   "source": [
    "**Problem 9(a)**  Construct a reverse Householder reflection, that gives an orthogonal matrix\n",
    "$Q$ such that, for $𝐱 ∈ ℝ^n$,\n",
    "$$\n",
    "𝐱^⊤ Q = \\|𝐱\\|𝐞_1^⊤.\n",
    "$$"
   ]
  },
  {
   "cell_type": "code",
   "execution_count": 49,
   "metadata": {},
   "outputs": [
    {
     "data": {
      "text/plain": [
       "\u001b[32m\u001b[1mTest Passed\u001b[22m\u001b[39m"
      ]
     },
     "execution_count": 49,
     "metadata": {},
     "output_type": "execute_result"
    }
   ],
   "source": [
    "function reversehouseholderreflection(x)\n",
    "    # TODO: implement a Householder reflection that acts on the left\n",
    "    y = copy(x)\n",
    "    y[1] -= norm(y)\n",
    "    w = y / norm(y)\n",
    "    I - 2*w*w'\n",
    "end\n",
    "\n",
    "x = randn(5)\n",
    "Q = reversehouseholderreflection(x)\n",
    "@test x'Q ≈ [norm(x) zeros(1,4)]"
   ]
  },
  {
   "cell_type": "markdown",
   "metadata": {},
   "source": [
    "**Problem 9(b)**\n",
    "Complete the function `lq(A)` that\n",
    "returns a LQ factorisation, that is, `A = LQ` where  `L` is lower triangular and `Q` is an orthogonal\n",
    "matrix. You may assume that `A` is a square `Matrix{Float64}`.  Do not manipulate the problem\n",
    "to reduce it to a standard QR factorisation."
   ]
  },
  {
   "cell_type": "code",
   "execution_count": 60,
   "metadata": {},
   "outputs": [
    {
     "data": {
      "text/plain": [
       "\u001b[32m\u001b[1mTest Passed\u001b[22m\u001b[39m"
      ]
     },
     "execution_count": 60,
     "metadata": {},
     "output_type": "execute_result"
    }
   ],
   "source": [
    "function lq_t(A)\n",
    "    m,n = size(A)\n",
    "    m == n || error(\"not square\")\n",
    "    # TODO Create Q and L such that A = L*Q, Q'Q == I and L is lower triangular\n",
    "    L = copy(A)\n",
    "    Q = Matrix(1.0I, n, n)\n",
    "    for k = 1:n-1\n",
    "        Qₖ =  reversehouseholderreflection(L[k, k:end])\n",
    "        L[k:end, k:end] = L[k:end, k:end] * Qₖ\n",
    "        Q[k:end, :] = Qₖ * Q[k:end, :]\n",
    "    end\n",
    "    L,Q\n",
    "end\n",
    "\n",
    "A = [1.0 2 3; 1 4 9; 1 1 1]\n",
    "L,Q = lq_t(A)\n",
    "@test Q'Q ≈ I\n",
    "@test L*Q ≈ A\n",
    "@test L ≈ tril(L) # it is acceptable to have small non-zero entries in L"
   ]
  },
  {
   "cell_type": "markdown",
   "metadata": {},
   "source": [
    "---\n",
    "\n",
    "*This notebook was generated using [Literate.jl](https://github.com/fredrikekre/Literate.jl).*"
   ]
  },
  {
   "cell_type": "markdown",
   "metadata": {},
   "source": []
  }
 ],
 "metadata": {
  "kernelspec": {
   "display_name": "Julia 1.10.0",
   "language": "julia",
   "name": "julia-1.10"
  },
  "language_info": {
   "file_extension": ".jl",
   "mimetype": "application/julia",
   "name": "julia",
   "version": "1.10.0"
  }
 },
 "nbformat": 4,
 "nbformat_minor": 3
}
