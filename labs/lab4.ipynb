{
 "cells": [
  {
   "cell_type": "markdown",
   "source": [
    "# MATH50003 (2023–24)\n",
    "# Lab 4: II.3 Floating Point Arithmetic and II.4 Interval Arithmetic"
   ],
   "metadata": {}
  },
  {
   "cell_type": "markdown",
   "source": [
    "This lab explores the usage of rounding modes for floating point arithmetic and how they\n",
    "can be used to compute _rigorous_ bounds on mathematical constants such as `ℯ`.\n",
    "The key idea is using _interval arithmetic_ to compute the Taylor series which is\n",
    "combined with a bound on the error caused by truncating a Taylor series.\n",
    "As a fun example, we compute the first 1000 digits of `ℯ`, backed up by a rigorous\n",
    "computation."
   ],
   "metadata": {}
  },
  {
   "cell_type": "markdown",
   "source": [
    "**Learning Outcomes**\n",
    "\n",
    "Mathematical knowledge:\n",
    "\n",
    "1. Behaviour of floating point rounding and interval arithmetic.\n",
    "2. Extending interval arithmetic operations to non-positive intervals.\n",
    "3. Combining interval arithmetic with Taylor series bounds for rigorous computations.\n",
    "\n",
    "Coding knowledge:\n",
    "\n",
    "1. Setting the rounding mode in constructors like `Float32` and via `setrounding`.\n",
    "2. High precision floating point numbers via `big` and setting precision via `setprecision`.\n",
    "3. The `promote` command for converting multiple variables to be the same type.\n",
    "4. Using `&&` for \"and\" and `||` for \"or\"."
   ],
   "metadata": {}
  },
  {
   "cell_type": "markdown",
   "source": [
    "We need the following packages:"
   ],
   "metadata": {}
  },
  {
   "outputs": [],
   "cell_type": "code",
   "source": [
    "using ColorBitstring, SetRounding, Test"
   ],
   "metadata": {},
   "execution_count": null
  },
  {
   "cell_type": "markdown",
   "source": [
    "## II.3 Floating Point Arithmetic"
   ],
   "metadata": {}
  },
  {
   "cell_type": "markdown",
   "source": [
    "In Julia, the rounding mode is specified by tags `RoundUp`, `RoundDown`, and\n",
    "`RoundNearest`. (There are also more exotic rounding strategies `RoundToZero`, `RoundNearestTiesAway` and\n",
    "`RoundNearestTiesUp` that we won't use.)"
   ],
   "metadata": {}
  },
  {
   "cell_type": "markdown",
   "source": [
    "Let's try rounding a `Float64` to a `Float32`."
   ],
   "metadata": {}
  },
  {
   "outputs": [],
   "cell_type": "code",
   "source": [
    "printlnbits(1/3)  # 64 bits\n",
    "printbits(Float32(1/3))  # round to nearest 32-bit"
   ],
   "metadata": {},
   "execution_count": null
  },
  {
   "cell_type": "markdown",
   "source": [
    "The default rounding mode can be changed:"
   ],
   "metadata": {}
  },
  {
   "outputs": [],
   "cell_type": "code",
   "source": [
    "printbits(Float32(1/3,RoundDown) ) # Rounds from a Float64 to Float32, rounding down"
   ],
   "metadata": {},
   "execution_count": null
  },
  {
   "cell_type": "markdown",
   "source": [
    "Or alternatively we can change the rounding mode for a chunk of code\n",
    "using `setrounding`. The following computes upper and lower bounds for `/`:"
   ],
   "metadata": {}
  },
  {
   "outputs": [],
   "cell_type": "code",
   "source": [
    "x = 1f0\n",
    "setrounding(Float32, RoundDown) do\n",
    "    x/3\n",
    "end,\n",
    "setrounding(Float32, RoundUp) do\n",
    "    x/3\n",
    "end"
   ],
   "metadata": {},
   "execution_count": null
  },
  {
   "cell_type": "markdown",
   "source": [
    "**WARNING (compiled constants)**: Why did we first create a variable `x` instead of typing `1f0/3`?\n",
    "This is due to a very subtle issue where the compiler is _too clever for it's own good_:\n",
    "it recognises `1f0/3` can be computed at compile time, but failed to recognise the rounding mode\n",
    "was changed."
   ],
   "metadata": {}
  },
  {
   "cell_type": "markdown",
   "source": [
    "**Problem 1** Complete functions `exp_t_3_down`/`exp_t_3_up` implementing the first\n",
    "three terms of the Taylor expansion of $\\exp(x)$, that is, $1 + x + x^2/2 + x^3/6$ but where\n",
    "each operation is rounded down/up. Use `typeof(x)` to make sure you are changing the\n",
    "rounding mode for the right floating point type."
   ],
   "metadata": {}
  },
  {
   "outputs": [],
   "cell_type": "code",
   "source": [
    "function exp_t_3_down(x)\n",
    "    T = typeof(x) # use this to set the rounding mode\n",
    "    # TODO: use setrounding to compute 1 + x + x/2 + x^2/6 but rounding down\n",
    "\n",
    "end\n",
    "\n",
    "function exp_t_3_up(x)\n",
    "    # TODO: use setrounding to compute 1 + x + x/2 + x^2/6 but rounding up\n",
    "\n",
    "end\n",
    "\n",
    "@test exp_t_3_down(Float32(1)) ≡ 2.6666665f0 # ≡ checks type and all bits are equal\n",
    "@test exp_t_3_up(Float32(1)) ≡ 2.6666667f0"
   ],
   "metadata": {},
   "execution_count": null
  },
  {
   "cell_type": "markdown",
   "source": [
    "### High-precision floating-point numbers"
   ],
   "metadata": {}
  },
  {
   "cell_type": "markdown",
   "source": [
    "It is possible to get higher precision (more signficand and exponent bits)\n",
    " of a floating-point number\n",
    "using the `BigFloat` type, which results from the usage of `big`\n",
    "when the result is not an integer.\n",
    "For example, here is an approximation of 1/3 accurate\n",
    "to 77 decimal digits:"
   ],
   "metadata": {}
  },
  {
   "outputs": [],
   "cell_type": "code",
   "source": [
    "big(1)/3"
   ],
   "metadata": {},
   "execution_count": null
  },
  {
   "cell_type": "markdown",
   "source": [
    "Note we can set the rounding mode as in `Float64`, e.g.,\n",
    "this gives (rigorous) bounds on\n",
    "`1/3`:"
   ],
   "metadata": {}
  },
  {
   "outputs": [],
   "cell_type": "code",
   "source": [
    "setrounding(BigFloat, RoundDown) do\n",
    "  big(1)/3\n",
    "end, setrounding(BigFloat, RoundUp) do\n",
    "  big(1)/3\n",
    "end"
   ],
   "metadata": {},
   "execution_count": null
  },
  {
   "cell_type": "markdown",
   "source": [
    "We can also increase the precision, e.g., this finds bounds on `1/3` accurate to\n",
    "more than 1000 decimal places:"
   ],
   "metadata": {}
  },
  {
   "outputs": [],
   "cell_type": "code",
   "source": [
    "setprecision(4_000) do # 4000 bit precision\n",
    "  setrounding(BigFloat, RoundDown) do\n",
    "    big(1)/3\n",
    "  end, setrounding(BigFloat, RoundUp) do\n",
    "    big(1)/3\n",
    "  end\n",
    "end"
   ],
   "metadata": {},
   "execution_count": null
  },
  {
   "cell_type": "markdown",
   "source": [
    "**Problem 2** Inbuilt functions like `exp`, `sqrt`, etc. support `BigFloat`.\n",
    "Compute at least the first thousand decimal digits of `ℯ` using `setprecision`\n",
    "and the inbuilt `exp` function."
   ],
   "metadata": {}
  },
  {
   "outputs": [],
   "cell_type": "code",
   "source": [
    "# TODO: Use big and setprecision to compute the first thousand digits of ℯ."
   ],
   "metadata": {},
   "execution_count": null
  },
  {
   "cell_type": "markdown",
   "source": [
    "-----\n",
    "\n",
    "## II.4 Interval Arithmetic"
   ],
   "metadata": {}
  },
  {
   "cell_type": "markdown",
   "source": [
    "We will now create a Type to represent an interval $[a,b] = {x : a ≤ x ≤ b}$, which we will call `Interval`.\n",
    "We need fields for the left endpoint (`a`) and a right endpoint (`b`):"
   ],
   "metadata": {}
  },
  {
   "outputs": [],
   "cell_type": "code",
   "source": [
    "struct Interval # represents the set [a,b]\n",
    "    a # left endpoint\n",
    "    b # right endpoint\n",
    "end\n",
    "\n",
    "Interval(x) = Interval(x,x) # Support Interval(1) to represent [1,1]"
   ],
   "metadata": {},
   "execution_count": null
  },
  {
   "cell_type": "markdown",
   "source": [
    "For example, if we say `X = Interval(1, 2)` this corresponds to the mathematical interval\n",
    "$[1, 2]$, and the fields are accessed via `X.a` and `X.b`.\n",
    "We will overload `*`, `+`, `-`, `/` to use interval arithmetic. That is, whenever we do arithmetic with\n",
    "an instance of `Interval` we want it to use correctly rounded interval variants.\n",
    "We also need to support `one` (a function that creates an interval containing a single point `1`)\n",
    "and `in` functions (a function to test if a number is within an interval).\n",
    "To overload these functions we need to import them as follows:"
   ],
   "metadata": {}
  },
  {
   "outputs": [],
   "cell_type": "code",
   "source": [
    "import Base: *, +, -, ^, /, one, in"
   ],
   "metadata": {},
   "execution_count": null
  },
  {
   "cell_type": "markdown",
   "source": [
    "We overload `in` as follows:"
   ],
   "metadata": {}
  },
  {
   "outputs": [],
   "cell_type": "code",
   "source": [
    "in(x, X::Interval) = X.a ≤ x ≤ X.b"
   ],
   "metadata": {},
   "execution_count": null
  },
  {
   "cell_type": "markdown",
   "source": [
    "The function `in` is whats called an \"infix\" operation (just like `+`, `-`, `*`, and `/`). We can call it\n",
    "either as `in(x, X)` or put the `in` in the middle and write `x in X`. This can be seen in the following:"
   ],
   "metadata": {}
  },
  {
   "outputs": [],
   "cell_type": "code",
   "source": [
    "X = Interval(2.0,3.3)\n",
    "# 2.5 in X is equivalent to in(2.5, X)\n",
    "# !(3.4 in X) is equivalent to !in(3.4, X)\n",
    "2.5 in X, !(3.4 in X)"
   ],
   "metadata": {},
   "execution_count": null
  },
  {
   "cell_type": "markdown",
   "source": [
    "We can overload `one` as follows to create an interval corresponding to $[1,1]$.\n",
    "The `one(T)` function will create the \"multiplicative identity\"\n",
    "for a given type. For example `one(Int)` will return `1`, `one(Float64)` returns `1.0`,\n",
    "and `one(String)` returns \"\" (because `\"\" * \"any string\" == \"any string\"`):"
   ],
   "metadata": {}
  },
  {
   "outputs": [],
   "cell_type": "code",
   "source": [
    "one(Int), one(Int64), one(String)"
   ],
   "metadata": {},
   "execution_count": null
  },
  {
   "cell_type": "markdown",
   "source": [
    "We can also just call it on an instance of the type:"
   ],
   "metadata": {}
  },
  {
   "outputs": [],
   "cell_type": "code",
   "source": [
    "one(2), one(2.0), one(\"any string\")"
   ],
   "metadata": {},
   "execution_count": null
  },
  {
   "cell_type": "markdown",
   "source": [
    "For an interval the multiplicative identity is the interval whose lower and upper limit are both 1.\n",
    "To ensure its the right type we call `one(X.a)` and `one(X.b)`"
   ],
   "metadata": {}
  },
  {
   "outputs": [],
   "cell_type": "code",
   "source": [
    "one(X::Interval) = Interval(one(X.a), one(X.b))"
   ],
   "metadata": {},
   "execution_count": null
  },
  {
   "cell_type": "markdown",
   "source": [
    "Thus the following returns an interval whose endpoints are both `1.0`:"
   ],
   "metadata": {}
  },
  {
   "outputs": [],
   "cell_type": "code",
   "source": [
    "one(Interval(2.0,3.3))"
   ],
   "metadata": {},
   "execution_count": null
  },
  {
   "cell_type": "markdown",
   "source": [
    "We now want to overload the operations `+`, `/` and `*` so that we can compute the Taylor\n",
    "series of `exp`. We begin with `+`."
   ],
   "metadata": {}
  },
  {
   "outputs": [],
   "cell_type": "code",
   "source": [
    "function +(X::Interval, Y::Interval)\n",
    "    a,b,c,d = promote(X.a, X.b, Y.a, Y.b) # make sure all are the same type\n",
    "    T = typeof(a)\n",
    "    α = setrounding(T, RoundDown) do\n",
    "        a + c\n",
    "    end\n",
    "    β = setrounding(T, RoundUp) do\n",
    "        b + d\n",
    "    end\n",
    "    Interval(α, β)\n",
    "end\n",
    "\n",
    "\n",
    "+(x::Number, Y::Interval) = Interval(x) + Y # Number is a supertype that contains Int, Float64, etc.\n",
    "+(X::Interval, y::Number) = X + Interval(y)\n",
    "\n",
    "\n",
    "# following example was the non-associative example but now we have bounds\n",
    "Interval(1.1) + Interval(1.2) + Interval(1.3)\n",
    "\n",
    "# note we are actually doing computations on ${\\rm fl}^{nearest}(1.1)$, etc.,\n",
    "# that is, we haven't accounted in the errors from making the constants."
   ],
   "metadata": {},
   "execution_count": null
  },
  {
   "cell_type": "markdown",
   "source": [
    "We now implement division, checking that our assumptions\n",
    "are satified. Note that `&&` means \"and\" whilst `||` means \"or\",\n",
    "While `!` changes a `true` to `false` and vice-versa."
   ],
   "metadata": {}
  },
  {
   "outputs": [],
   "cell_type": "code",
   "source": [
    "function /(X::Interval, n::Int)\n",
    "    a,b = promote(X.a, X.b)\n",
    "    T = typeof(a)\n",
    "    if !(n > 0 && 0 < a ≤ b)\n",
    "        error(\"Input doesn't satisfy positivity assumptions\")\n",
    "    end\n",
    "    α = setrounding(T, RoundDown) do\n",
    "            a / n\n",
    "    end\n",
    "    β = setrounding(T, RoundUp) do\n",
    "            b / n\n",
    "    end\n",
    "    Interval(α, β)\n",
    "end\n",
    "\n",
    "Interval(1.0,2.0)/3 # rounds bottom down and top up"
   ],
   "metadata": {},
   "execution_count": null
  },
  {
   "cell_type": "markdown",
   "source": [
    "Finally we overload `*` to behave like the operation `⊗`:"
   ],
   "metadata": {}
  },
  {
   "outputs": [],
   "cell_type": "code",
   "source": [
    "function *(X::Interval, Y::Interval)\n",
    "    a,b,c,d = promote(X.a, X.b, Y.a, Y.b)\n",
    "    T = typeof(a)\n",
    "    if !(0 < a ≤ b && 0 < c ≤ d)\n",
    "        error(\"Input doesn't satisfy positivity assumptions\")\n",
    "    end\n",
    "    α = setrounding(T, RoundDown) do\n",
    "            a * c\n",
    "    end\n",
    "    β = setrounding(T, RoundUp) do\n",
    "            b * d\n",
    "    end\n",
    "    Interval(α, β)\n",
    "end"
   ],
   "metadata": {},
   "execution_count": null
  },
  {
   "cell_type": "markdown",
   "source": [
    "Let's also support powers:"
   ],
   "metadata": {}
  },
  {
   "outputs": [],
   "cell_type": "code",
   "source": [
    "function ^(X::Interval, k::Int)\n",
    "    if k ≤ 0\n",
    "        error(\"not supported\")\n",
    "    elseif k == 1\n",
    "        X\n",
    "    else\n",
    "        X * X^(k-1)\n",
    "    end\n",
    "end"
   ],
   "metadata": {},
   "execution_count": null
  },
  {
   "cell_type": "markdown",
   "source": [
    "We can now compute positive polynomials with interval arithmetic:"
   ],
   "metadata": {}
  },
  {
   "outputs": [],
   "cell_type": "code",
   "source": [
    "X = Interval(1.0)\n",
    "1 + X + X^2/2 + X^3/6 + X^4/24"
   ],
   "metadata": {},
   "execution_count": null
  },
  {
   "cell_type": "markdown",
   "source": [
    "------"
   ],
   "metadata": {}
  },
  {
   "cell_type": "markdown",
   "source": [
    "**Problem 3(a)** Complete the following implementations of `-` to correctly round\n",
    "the endpoints in interval negation and subtraction."
   ],
   "metadata": {}
  },
  {
   "outputs": [],
   "cell_type": "code",
   "source": [
    "import Base: -\n",
    "\n",
    "function -(X::Interval)\n",
    "    a,b = promote(X.a, X.b)\n",
    "    # TODO: return an interval representing {-x : x in X}\n",
    "\n",
    "end\n",
    "\n",
    "function -(X::Interval, Y::Interval)\n",
    "    a,b,c,d = promote(X.a, X.b, Y.a, Y.b)\n",
    "    T = typeof(a)\n",
    "    # TODO: return an interval implementing X ⊖ Y\n",
    "\n",
    "end\n",
    "\n",
    "@test -Interval(0.1,0.2) == Interval(-0.2, -0.1)\n",
    "@test Interval(0.1,0.2) - Interval(1.1,1.2) ≡ Interval(-1.1, -0.9)"
   ],
   "metadata": {},
   "execution_count": null
  },
  {
   "cell_type": "markdown",
   "source": [
    "**Problem 3(b)** Alter the implementation of `/(X::Interval, n::Int)`\n",
    "to support the case where `n < 0` and `*` to remove the restrictions on\n",
    "positivity of the endpoints. You may assume the intervals are non-empty."
   ],
   "metadata": {}
  },
  {
   "outputs": [],
   "cell_type": "code",
   "source": [
    "# TODO: overload / and *, again.\n",
    "\n",
    "\n",
    "\n",
    "@test Interval(1.1, 1.2) * Interval(2.1, 3.1) ≡ Interval(2.31, 3.72)\n",
    "@test Interval(-1.2, -1.1) * Interval(2.1, 3.1) ≡ Interval(-3.72, -2.31)\n",
    "@test Interval(1.1, 1.2) * Interval(-3.1, -2.1) ≡ Interval(-3.72, -2.31)\n",
    "@test Interval(-1.2, -1.1) * Interval(-3.1, -2.1) ≡ Interval(2.31, 3.72)\n",
    "\n",
    "\n",
    "@test Interval(1.0,2.0)/3 ≡ Interval(0.3333333333333333, 0.6666666666666667)\n",
    "@test Interval(1.0,2.0)/(-3) ≡ Interval(-0.6666666666666667, -0.3333333333333333)\n",
    "\n",
    "@test Interval(-1., 2) * Interval(2,3) ≡ Interval(-3.0, 6.0)\n",
    "@test Interval(-1., 2) * Interval(-3,5) ≡ Interval(-6.0, 10.0)"
   ],
   "metadata": {},
   "execution_count": null
  },
  {
   "cell_type": "markdown",
   "source": [
    "-----"
   ],
   "metadata": {}
  },
  {
   "cell_type": "markdown",
   "source": [
    "The following function  computes the first `n+1` terms of the Taylor series of $\\exp(x)$:\n",
    "$$\n",
    "\\sum_{k=0}^n {x^k \\over k!}\n",
    "$$\n",
    "We avoid using `factorial` to avoid underflow/overflow."
   ],
   "metadata": {}
  },
  {
   "outputs": [],
   "cell_type": "code",
   "source": [
    "function exp_t(x, n)\n",
    "    ret = one(x)\n",
    "    s = one(x)\n",
    "    for k = 1:n\n",
    "        s = s/k * x\n",
    "        ret = ret + s\n",
    "    end\n",
    "    ret\n",
    "end\n",
    "\n",
    "exp_t(X, 100) # Taylor series with interval arithemtic"
   ],
   "metadata": {},
   "execution_count": null
  },
  {
   "cell_type": "markdown",
   "source": [
    "In the notes we derived a bound assuming $0 ≤ x ≤ 1$\n",
    "on the error in Taylor series of the form $|δ_{x,n}| ≤ 3/(n+1)!$.\n",
    "Here we incorporate that error to get a rigorous bound."
   ],
   "metadata": {}
  },
  {
   "outputs": [],
   "cell_type": "code",
   "source": [
    "function exp_bound(X::Interval, n)\n",
    "    a,b = promote(X.a, X.b)\n",
    "    T = typeof(a)\n",
    "\n",
    "    if !(0 < a ≤ b)\n",
    "        error(\"Interval must be a subset of [0, 1]\")\n",
    "    end\n",
    "    ret = exp_t(X, n) # the code for Taylor series should work on Interval unmodified\n",
    "    # avoid overflow in computing factorial by using `big`.\n",
    "    # Convert to type `T` to support rounding.\n",
    "    f = T(factorial(big(n + 1)),RoundDown)\n",
    "\n",
    "    δ = setrounding(T, RoundUp) do\n",
    "        T(3) / f # need to convert 3 to the right type to set the rounding\n",
    "    end\n",
    "    ret + Interval(-δ,δ)\n",
    "end\n",
    "\n",
    "E = exp_bound(Interval(1.0), 20)"
   ],
   "metadata": {},
   "execution_count": null
  },
  {
   "cell_type": "markdown",
   "source": [
    "Here we test that the bounds match our expectations:"
   ],
   "metadata": {}
  },
  {
   "outputs": [],
   "cell_type": "code",
   "source": [
    "@test exp(big(1)) in E\n",
    "@test E.b - E.a ≤ 1E-13 # we want our bounds to be sharp"
   ],
   "metadata": {},
   "execution_count": null
  },
  {
   "cell_type": "markdown",
   "source": [
    "We can even use the code with `BigFloat` to compute a rigorous bound on the first\n",
    "1000 digits of `ℯ`:"
   ],
   "metadata": {}
  },
  {
   "outputs": [],
   "cell_type": "code",
   "source": [
    "e_int_big = setprecision(4_000) do\n",
    "    exp_bound(Interval(big(1.0)), 1000)\n",
    "end"
   ],
   "metadata": {},
   "execution_count": null
  },
  {
   "cell_type": "markdown",
   "source": [
    "Our tests show that this has computed more than 1000 digits:"
   ],
   "metadata": {}
  },
  {
   "outputs": [],
   "cell_type": "code",
   "source": [
    "@test ℯ in e_int_big # we contain ℯ\n",
    "@test e_int_big.b - e_int_big.a ≤ big(10.0)^(-1200) # with 1200 digits of accuracy!"
   ],
   "metadata": {},
   "execution_count": null
  },
  {
   "cell_type": "markdown",
   "source": [
    "------\n",
    "**Problem 4** Extend the implementation of `exp_bound` for the case when `-2 ≤ x ≤ 2`."
   ],
   "metadata": {}
  },
  {
   "outputs": [],
   "cell_type": "code",
   "source": [
    "# TODO: re-overload `exp` but without the restrictions on positivity and adjusting the\n",
    "# the bound appropriately.\n",
    "\n",
    "\n",
    "\n",
    "@test exp(big(-2)) in exp_bound(Interval(-2.0), 20)"
   ],
   "metadata": {},
   "execution_count": null
  },
  {
   "cell_type": "markdown",
   "source": [
    "**Problem 5(a)** Complete the implementation of a function `sin_t(x,n)` computing the\n",
    "first `2n+1` terms of the Taylor series:\n",
    "$$\n",
    "\\sin\\ x ≈ ∑_{k=0}^n {(-1)^k x^{2k+1} \\over (2k+1)!}\n",
    "$$"
   ],
   "metadata": {}
  },
  {
   "outputs": [],
   "cell_type": "code",
   "source": [
    "function sin_t(x, n)\n",
    "    ret = x\n",
    "    s = x\n",
    "    # TODO: Compute the first 2n+1 terms of the Taylor series of sin, without using the factorial function\n",
    "\n",
    "    ret\n",
    "end\n",
    "\n",
    "@test sin_t(1.0, 10) ≈ 0.8414709848078965\n",
    "@test sin_t(big(1.0), 10) in  sin_t(Interval(1.0), 10)"
   ],
   "metadata": {},
   "execution_count": null
  },
  {
   "cell_type": "markdown",
   "source": [
    "**Problem 5(b)** Complete the implementation of a function `sin_bound(x,n)` that\n",
    "includes an error bound on the computation. You may assume $0 ≤ x ≤ 1$."
   ],
   "metadata": {}
  },
  {
   "outputs": [],
   "cell_type": "code",
   "source": [
    "function sin_bound(X::Interval, n)\n",
    "    a,b = promote(X.a, X.b)\n",
    "    T = typeof(a)\n",
    "    # TODO: complete the implementation to include the error in truncating the Taylor series.\n",
    "\n",
    "end\n",
    "\n",
    "\n",
    "S = sin_bound(Interval(1.0), 20)\n",
    "@test sin(big(1)) in S\n",
    "@test S.b - S.a ≤ 1E-13 # we want our bounds to be sharp"
   ],
   "metadata": {},
   "execution_count": null
  },
  {
   "cell_type": "markdown",
   "source": [
    "---\n",
    "\n",
    "*This notebook was generated using [Literate.jl](https://github.com/fredrikekre/Literate.jl).*"
   ],
   "metadata": {}
  }
 ],
 "nbformat_minor": 3,
 "metadata": {
  "language_info": {
   "file_extension": ".jl",
   "mimetype": "application/julia",
   "name": "julia",
   "version": "1.10.0"
  },
  "kernelspec": {
   "name": "julia-1.10",
   "display_name": "Julia 1.10.0",
   "language": "julia"
  }
 },
 "nbformat": 4
}
